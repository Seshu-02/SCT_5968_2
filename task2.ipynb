import pandas as pd
import seaborn as sns
import matplotlib.pyplot as plt
import zipfile

# Path to the ZIP file
zip_path = r'C:\Users\DELL\Seshu X\titanic.zip'  # Use raw string for Windows paths

# Load 'train.csv' from the ZIP archive
with zipfile.ZipFile(zip_path) as z:
    with z.open('train.csv') as f:
        df = pd.read_csv(f)

# Data Cleaning
df['Age'] = df['Age'].fillna(df['Age'].median())
df['Embarked'] = df['Embarked'].fillna(df['Embarked'].mode()[0])

# Set Seaborn style
sns.set(style='darkgrid')

# --- Visualizations ---

# 1. Survival Count
sns.countplot(x='Survived', data=df)
plt.title('Survival Count (0 = Died, 1 = Survived)')
plt.show()

# 2. Survival by Gender
sns.countplot(x='Sex', hue='Survived', data=df)
plt.title('Survival by Gender')
plt.show()

# 3. Survival by Passenger Class
sns.countplot(x='Pclass', hue='Survived', data=df)
plt.title('Survival by Passenger Class')
plt.show()

# 4. Age Distribution by Survival
sns.kdeplot(data=df, x='Age', hue='Survived', fill=True)
plt.title('Age Distribution by Survival')
plt.show()

# 5. Survival by Embarkation
sns.countplot(x='Embarked', hue='Survived', data=df)
plt.title('Survival by Embarkation Point')
plt.show()
